{
 "cells": [
  {
   "cell_type": "markdown",
   "metadata": {},
   "source": [
    "# Introduction"
   ]
  },
  {
   "cell_type": "markdown",
   "metadata": {},
   "source": [
    "Fortunately, with libraries such as Scikit-Learn, it’s now easy to build and use almost any machine learning algorithm. But it’s helpful to have an idea of how a machine learning model works under the hood. This lets us diagnose the model when it’s underperforming or explain how it makes decisions, which is crucial if we want to convince others to trust our models.\n",
    "In this assignment, we’ll look at how to build and use the Decision Tree and the Random Forest in Python. We’ll start by understanding how a single decision tree makes classifications on a simple problem. Then, we’ll work our way to using a random forest on a real-world data science problem."
   ]
  },
  {
   "cell_type": "markdown",
   "metadata": {},
   "source": [
    "# Dataset"
   ]
  },
  {
   "cell_type": "markdown",
   "metadata": {},
   "source": [
    "The dataset we will use in this assignment is the Sonar dataset.\n",
    "\n",
    "This is a dataset that describes sonar chirp returns bouncing off different surfaces. The 60 predictors are the strength of the returns at different angles. It is a binary classification problem that requires a model to differentiate rocks from metal cylinders. There are 208 observations.\n",
    "\n",
    "It is a well-understood dataset. All of the variables are continuous and generally in the range of 0 to 1. The output variable is a string “M” for mine and “R” for rock, which will need to be converted to integers 1 and 0.\n",
    "\n",
    "By predicting the class with the most observations in the dataset (M or mines) the Zero Rule Algorithm can achieve an accuracy of 53%.\n",
    "\n",
    "You can learn more about this dataset at the UCI Machine Learning repository.\n",
    "https://archive.ics.uci.edu/ml/datasets/Connectionist+Bench+(Sonar,+Mines+vs.+Rocks)\n",
    "\n",
    "Download the dataset for free and place it in the \"data\" folder in your working directory with the filename sonar.all-data.csv."
   ]
  },
  {
   "cell_type": "markdown",
   "metadata": {},
   "source": [
    "# Import section"
   ]
  },
  {
   "cell_type": "code",
   "execution_count": 1,
   "metadata": {
    "ExecuteTime": {
     "end_time": "2022-01-17T20:27:52.137523Z",
     "start_time": "2022-01-17T20:27:51.210945Z"
    }
   },
   "outputs": [
    {
     "data": {
      "text/plain": [
       "'1.0.2'"
      ]
     },
     "execution_count": 1,
     "metadata": {},
     "output_type": "execute_result"
    }
   ],
   "source": [
    "import numpy as np\n",
    "import pandas as pd\n",
    "import matplotlib.pyplot as plt\n",
    "import seaborn as sns\n",
    "from sklearn.model_selection import train_test_split\n",
    "from sklearn.metrics import accuracy_score\n",
    "import sklearn\n",
    "sklearn.__version__"
   ]
  },
  {
   "cell_type": "code",
   "execution_count": 2,
   "metadata": {
    "ExecuteTime": {
     "end_time": "2022-01-17T20:27:52.153537Z",
     "start_time": "2022-01-17T20:27:52.139489Z"
    }
   },
   "outputs": [],
   "source": [
    "import tests"
   ]
  },
  {
   "cell_type": "code",
   "execution_count": 3,
   "metadata": {
    "ExecuteTime": {
     "end_time": "2022-01-17T20:27:52.169411Z",
     "start_time": "2022-01-17T20:27:52.156443Z"
    }
   },
   "outputs": [],
   "source": [
    "plt.style.use([\"dark_background\"])\n",
    "plt.rcParams[\"figure.figsize\"] = [20.0, 8.0]\n",
    "RANDOM_STATE = 2020"
   ]
  },
  {
   "cell_type": "markdown",
   "metadata": {},
   "source": [
    "# Preprocess data"
   ]
  },
  {
   "cell_type": "markdown",
   "metadata": {},
   "source": [
    "Read data and convert targets to integers 1 and 0."
   ]
  },
  {
   "cell_type": "code",
   "execution_count": 4,
   "metadata": {
    "ExecuteTime": {
     "end_time": "2022-01-17T20:27:52.216149Z",
     "start_time": "2022-01-17T20:27:52.171403Z"
    }
   },
   "outputs": [
    {
     "data": {
      "text/html": [
       "<div>\n",
       "<style scoped>\n",
       "    .dataframe tbody tr th:only-of-type {\n",
       "        vertical-align: middle;\n",
       "    }\n",
       "\n",
       "    .dataframe tbody tr th {\n",
       "        vertical-align: top;\n",
       "    }\n",
       "\n",
       "    .dataframe thead th {\n",
       "        text-align: right;\n",
       "    }\n",
       "</style>\n",
       "<table border=\"1\" class=\"dataframe\">\n",
       "  <thead>\n",
       "    <tr style=\"text-align: right;\">\n",
       "      <th></th>\n",
       "      <th>feat_0</th>\n",
       "      <th>feat_1</th>\n",
       "      <th>feat_2</th>\n",
       "      <th>feat_3</th>\n",
       "      <th>feat_4</th>\n",
       "      <th>feat_5</th>\n",
       "      <th>feat_6</th>\n",
       "      <th>feat_7</th>\n",
       "      <th>feat_8</th>\n",
       "      <th>feat_9</th>\n",
       "      <th>...</th>\n",
       "      <th>feat_51</th>\n",
       "      <th>feat_52</th>\n",
       "      <th>feat_53</th>\n",
       "      <th>feat_54</th>\n",
       "      <th>feat_55</th>\n",
       "      <th>feat_56</th>\n",
       "      <th>feat_57</th>\n",
       "      <th>feat_58</th>\n",
       "      <th>feat_59</th>\n",
       "      <th>target</th>\n",
       "    </tr>\n",
       "  </thead>\n",
       "  <tbody>\n",
       "    <tr>\n",
       "      <th>0</th>\n",
       "      <td>0.02</td>\n",
       "      <td>0.0371</td>\n",
       "      <td>0.0428</td>\n",
       "      <td>0.0207</td>\n",
       "      <td>0.0954</td>\n",
       "      <td>0.0986</td>\n",
       "      <td>0.1539</td>\n",
       "      <td>0.1601</td>\n",
       "      <td>0.3109</td>\n",
       "      <td>0.2111</td>\n",
       "      <td>...</td>\n",
       "      <td>0.0027</td>\n",
       "      <td>0.0065</td>\n",
       "      <td>0.0159</td>\n",
       "      <td>0.0072</td>\n",
       "      <td>0.0167</td>\n",
       "      <td>0.018</td>\n",
       "      <td>0.0084</td>\n",
       "      <td>0.009</td>\n",
       "      <td>0.0032</td>\n",
       "      <td>0</td>\n",
       "    </tr>\n",
       "  </tbody>\n",
       "</table>\n",
       "<p>1 rows × 61 columns</p>\n",
       "</div>"
      ],
      "text/plain": [
       "   feat_0  feat_1  feat_2  feat_3  feat_4  feat_5  feat_6  feat_7  feat_8  \\\n",
       "0    0.02  0.0371  0.0428  0.0207  0.0954  0.0986  0.1539  0.1601  0.3109   \n",
       "\n",
       "   feat_9  ...  feat_51  feat_52  feat_53  feat_54  feat_55  feat_56  feat_57  \\\n",
       "0  0.2111  ...   0.0027   0.0065   0.0159   0.0072   0.0167    0.018   0.0084   \n",
       "\n",
       "   feat_58  feat_59  target  \n",
       "0    0.009   0.0032       0  \n",
       "\n",
       "[1 rows x 61 columns]"
      ]
     },
     "execution_count": 4,
     "metadata": {},
     "output_type": "execute_result"
    }
   ],
   "source": [
    "PATH = 'data/'\n",
    "df = pd.read_csv(PATH+'sonar-all-data.csv', header=None)\n",
    "df.columns = [f'feat_{col}' if col!=60 else 'target' for col in df.columns]\n",
    "df['target'] = df['target'].map({'M': 1, 'R': 0})\n",
    "df.head(1)"
   ]
  },
  {
   "cell_type": "markdown",
   "metadata": {},
   "source": [
    "# Split data (train and test)"
   ]
  },
  {
   "cell_type": "code",
   "execution_count": 5,
   "metadata": {
    "ExecuteTime": {
     "end_time": "2022-01-17T20:27:52.230836Z",
     "start_time": "2022-01-17T20:27:52.217831Z"
    }
   },
   "outputs": [],
   "source": [
    "X_train, X_test, y_train, y_test = train_test_split(\n",
    "    df.drop(columns=\"target\"), df[\"target\"], test_size=0.2, random_state=RANDOM_STATE\n",
    ")"
   ]
  },
  {
   "cell_type": "markdown",
   "metadata": {},
   "source": [
    "# Homework part 1. Implementation of Random Forest Classifier."
   ]
  },
  {
   "cell_type": "markdown",
   "metadata": {},
   "source": [
    "## Splitting criteria"
   ]
  },
  {
   "cell_type": "markdown",
   "metadata": {},
   "source": [
    "**Task 1 - 2 points.** In this section you should implement two criteria for splitting of the feature space. Any of these can be used in the model."
   ]
  },
  {
   "cell_type": "markdown",
   "metadata": {},
   "source": [
    "### Gini index"
   ]
  },
  {
   "cell_type": "markdown",
   "metadata": {},
   "source": [
    "0.5 points for *gini_index* function"
   ]
  },
  {
   "cell_type": "code",
   "execution_count": 6,
   "metadata": {
    "ExecuteTime": {
     "end_time": "2022-01-17T20:27:52.246755Z",
     "start_time": "2022-01-17T20:27:52.231795Z"
    }
   },
   "outputs": [],
   "source": [
    "def gini_index(x):\n",
    "    \"\"\"Calculate Gini Index for a node\n",
    "    https://scikit-learn.org/stable/modules/tree.html\n",
    "    Args:\n",
    "        x: Numpy-array of targets in a node\n",
    "    Returns:\n",
    "        float: Gini index\"\"\"\n",
    "    sum = 0\n",
    "    N = x.shape[0]\n",
    "    # G = sum(pk * (1 — pk)), pk == proportion of class\n",
    "    for cls in np.unique(x):\n",
    "        sum += np.sum(x == cls) / N * (1 - np.sum(x == cls) / N)\n",
    "    return sum"
   ]
  },
  {
   "cell_type": "code",
   "execution_count": 7,
   "metadata": {},
   "outputs": [
    {
     "name": "stdout",
     "output_type": "stream",
     "text": [
      "\u001b[92m All good!\n"
     ]
    }
   ],
   "source": [
    "tests.test_gini_index(gini_index)"
   ]
  },
  {
   "cell_type": "markdown",
   "metadata": {},
   "source": [
    "0.5 points for *gini_gain* function"
   ]
  },
  {
   "cell_type": "code",
   "execution_count": 8,
   "metadata": {
    "ExecuteTime": {
     "end_time": "2022-01-17T20:27:52.374411Z",
     "start_time": "2022-01-17T20:27:51.226Z"
    }
   },
   "outputs": [],
   "source": [
    "def gini_gain(parent_node, splits):\n",
    "    \"\"\" Calculate Gini Gain for a particular split\n",
    "    Args:\n",
    "        parent_node: Numpy-array of targets in a parent node\n",
    "        splits: List of two numpy-arrays. Each numpy-array is targets in a child node\n",
    "    Returns:\n",
    "        float: Gini gain\n",
    "    \"\"\"       \n",
    "    classes = np.unique(parent_node)\n",
    "    N = parent_node.shape[0]\n",
    "    res = 0\n",
    "    for split in splits:\n",
    "        sum = 1\n",
    "        for cls in classes:\n",
    "            sum -= (np.sum(split == cls) / len(split)) ** 2\n",
    "        res += sum * len(split) / N\n",
    "    res = gini_index(parent_node) - res\n",
    "    return res "
   ]
  },
  {
   "cell_type": "code",
   "execution_count": 9,
   "metadata": {
    "ExecuteTime": {
     "end_time": "2022-01-17T20:27:52.375408Z",
     "start_time": "2022-01-17T20:27:51.228Z"
    }
   },
   "outputs": [
    {
     "name": "stdout",
     "output_type": "stream",
     "text": [
      "\u001b[92m All good!\n"
     ]
    }
   ],
   "source": [
    "tests.test_gini_gain(gini_gain)"
   ]
  },
  {
   "cell_type": "markdown",
   "metadata": {},
   "source": [
    "### Entropy"
   ]
  },
  {
   "cell_type": "markdown",
   "metadata": {},
   "source": [
    "0.5 points for *entropy* function"
   ]
  },
  {
   "cell_type": "code",
   "execution_count": 10,
   "metadata": {
    "ExecuteTime": {
     "end_time": "2022-01-17T20:27:52.376406Z",
     "start_time": "2022-01-17T20:27:51.230Z"
    }
   },
   "outputs": [],
   "source": [
    "def entropy(x):\n",
    "    \"\"\" Calculate Entropy for a node\n",
    "    Args:\n",
    "        x: Numpy-array of targets in a node\n",
    "    Returns:\n",
    "        float: Entropy\n",
    "    \"\"\"\n",
    "    # If you use vectorized operations on a vector of frequencies p\n",
    "    # where some of the relative frequencies may be 0, and you need to evaluate\n",
    "    # the expression p * np.log(p), you can use the \"where\" argument of the np.log() function.\n",
    "    # This will leave those elements of the array untouched by the function, \n",
    "    # thus evaluating x*log(x) as zero, exactly as we want it to be.\n",
    "    N = x.shape[0]\n",
    "    sum = 0\n",
    "    for cls in np.unique(x):\n",
    "        pk = np.sum(x == cls) / N\n",
    "        sum += pk * np.log(pk)\n",
    "    return -sum\n"
   ]
  },
  {
   "cell_type": "code",
   "execution_count": 11,
   "metadata": {
    "ExecuteTime": {
     "end_time": "2022-01-17T20:27:52.376406Z",
     "start_time": "2022-01-17T20:27:51.233Z"
    }
   },
   "outputs": [
    {
     "name": "stdout",
     "output_type": "stream",
     "text": [
      "\u001b[92m All good!\n"
     ]
    }
   ],
   "source": [
    "tests.test_entropy(entropy)"
   ]
  },
  {
   "cell_type": "markdown",
   "metadata": {},
   "source": [
    "0.5 points for *information_gain* function"
   ]
  },
  {
   "cell_type": "code",
   "execution_count": 12,
   "metadata": {
    "ExecuteTime": {
     "end_time": "2022-01-17T20:27:52.377403Z",
     "start_time": "2022-01-17T20:27:51.234Z"
    }
   },
   "outputs": [],
   "source": [
    "def information_gain(parent_node, splits):\n",
    "    \"\"\" Calculate Information Gain for a particular split\n",
    "    Args:\n",
    "        parent_node: Numpy-array of targets in a parent node\n",
    "        splits: List of two numpy-arrays. Each numpy-array is targets in a child node\n",
    "    Returns:\n",
    "        float: Information Gain\n",
    "    \"\"\"     \n",
    "    N = parent_node.shape[0]\n",
    "    res = 0\n",
    "    for split in splits:\n",
    "        res += entropy(split) * len(split) / N\n",
    "    return entropy(parent_node) - res   "
   ]
  },
  {
   "cell_type": "code",
   "execution_count": 13,
   "metadata": {
    "ExecuteTime": {
     "end_time": "2022-01-17T20:27:52.378400Z",
     "start_time": "2022-01-17T20:27:51.236Z"
    }
   },
   "outputs": [
    {
     "name": "stdout",
     "output_type": "stream",
     "text": [
      "\u001b[92m All good!\n"
     ]
    }
   ],
   "source": [
    "tests.test_information_gain(information_gain)"
   ]
  },
  {
   "cell_type": "markdown",
   "metadata": {},
   "source": [
    "## Split function"
   ]
  },
  {
   "cell_type": "markdown",
   "metadata": {},
   "source": [
    "**Task 2 - 1 point** Implement *split_dataset* function. <br>\n",
    "The rows of the dataframe received by a tree node are split into two dataframes depending on their values in a selected column. Rows with values smaller than the chosen threshold are stored in the resulting left dataframe, and we save rows with values larger than the threshold in the right dataframe. The array with target values should be split in accordance with the feature dataframe."
   ]
  },
  {
   "cell_type": "code",
   "execution_count": 14,
   "metadata": {
    "ExecuteTime": {
     "end_time": "2022-01-17T20:27:52.379398Z",
     "start_time": "2022-01-17T20:27:51.239Z"
    }
   },
   "outputs": [],
   "source": [
    "def split(X, y, value):\n",
    "    \"\"\"Split y-values in order to calculate gain later\n",
    "    Args:\n",
    "        X: 1-dimensional numpy-array of data predictor with shape (N,)\n",
    "        y: 1-dimensional numpy-array of targets with shape (N,)\n",
    "        value (float): the value by which the X should be splitted\n",
    "    Returns:\n",
    "        Two 1-dimensional numpy-arrays with targets related to splits\n",
    "    \"\"\"\n",
    "    left_mask = X < value\n",
    "    right_mask = X >= value\n",
    "    return y[left_mask], y[right_mask]\n",
    "\n",
    "\n",
    "def split_dataset(X, y, column, value):\n",
    "    \"\"\"Split dataset by a particular column and value\n",
    "    Args:\n",
    "        X: 2-dimensional numpy-array (N, num_feats). N-number of samples\n",
    "        y: 1-dimensional numpy-array of targets with shape (N,)\n",
    "        column (int): the column by which the X should be splitted\n",
    "        value (float): the value by which the column should be splitted\n",
    "    Returns:\n",
    "        Two 2-dimensional numpy-arrays with data and two 1-dimensional numpy-arrays with targets related to splits\n",
    "        left_X, right_X, left_y, right_y\n",
    "    \"\"\"\n",
    "    left_mask = X[:, column] < value\n",
    "    right_mask = X[:, column] >= value\n",
    "    left_y, right_y = y[left_mask], y[right_mask]\n",
    "    left_X, right_X = X[left_mask], X[right_mask]\n",
    "    return left_X, right_X, left_y, right_y"
   ]
  },
  {
   "cell_type": "code",
   "execution_count": 15,
   "metadata": {
    "ExecuteTime": {
     "end_time": "2022-01-17T20:27:52.380396Z",
     "start_time": "2022-01-17T20:27:51.240Z"
    }
   },
   "outputs": [
    {
     "name": "stdout",
     "output_type": "stream",
     "text": [
      "\u001b[92m All good!\n"
     ]
    }
   ],
   "source": [
    "tests.test_split_dataset(split_dataset)"
   ]
  },
  {
   "cell_type": "markdown",
   "metadata": {},
   "source": [
    "## Decision tree"
   ]
  },
  {
   "cell_type": "markdown",
   "metadata": {},
   "source": [
    "**Task 3 - 4.5 points** In the Tree class below you need to complete the *fit(), predict_row()* and *predict()* functions.<br>\n",
    "Each tree is basically a tree node that may have a left and a right child that are also trees. If a tree doesn't have any child nodes, we call it a leaf.<br>\n",
    "Since features for splitting a dataframe are chosen randomly, we need a mechanism to control this randomness to aquire reproducibility for testing purposes. In our case we use the [Random Generator](https://numpy.org/doc/stable/reference/random/generator.html)<br>\n",
    "By creation of a tree only the **criterion** and the **rng** fields are not filled with Nones, so each tree knows what criterion for dataframe splitting it should use. Each fitted tree knows as well by which column and value the split should be performed. If a tree is a leaf it doesn't have information about the split, but stores the predicted value."
   ]
  },
  {
   "cell_type": "code",
   "execution_count": 16,
   "metadata": {
    "ExecuteTime": {
     "end_time": "2022-01-17T22:03:37.866634Z",
     "start_time": "2022-01-17T22:03:37.816038Z"
    }
   },
   "outputs": [],
   "source": [
    "class Tree(object):\n",
    "    \"\"\"A decision tree classifier.\n",
    "\n",
    "    Args:\n",
    "        criterion : {\"gini\", \"entropy\"}, default=\"gini\"\n",
    "            The function to measure the quality of a split. Supported criteria are\n",
    "            \"gini\" for the Gini impurity and \"entropy\" for the information gain.\n",
    "        random_gen: numpy Random Generator object, default=None\n",
    "            Generator should be passed over for reproducible results. If None,\n",
    "            a new np.random.default_rng() will be created.\n",
    "    \"\"\"\n",
    "\n",
    "    def __init__(self, criterion=\"gini\", random_gen=None):\n",
    "        if criterion not in [\"gini\", \"entropy\"]:\n",
    "            raise ValueError(f\"Unknown criteria for splits {criterion}\")\n",
    "        self.criterion = criterion\n",
    "        self.threshold = None  # value of the next split\n",
    "        self.column_index = None  # column to use for the next split\n",
    "        self.outcome_probs = None  # the predicted value if the tree is a leaf\n",
    "        self.left_child = None\n",
    "        self.right_child = None\n",
    "        self.rng = random_gen if random_gen is not None else np.random.default_rng()\n",
    "\n",
    "    @property\n",
    "    def is_terminal(self):\n",
    "        \"\"\"Define is it terminal node.\"\"\"\n",
    "        return not bool(self.left_child and self.right_child)\n",
    "\n",
    "    def _compute_gain(self, y, splits):\n",
    "        \"\"\"Compute split gain according to chosen criteria.\"\"\"\n",
    "        func = gini_gain if self.criterion == \"gini\" else information_gain\n",
    "        return func(y, splits)\n",
    "\n",
    "    def _find_splits(self, X):\n",
    "        \"\"\"Find all possible split values.\"\"\"\n",
    "        split_values = set()\n",
    "        # Get unique values in a sorted order\n",
    "        x_unique = list(np.unique(X))\n",
    "        for i in range(1, len(x_unique)):\n",
    "            # Find a point between two values\n",
    "            average = (x_unique[i - 1] + x_unique[i]) / 2.0\n",
    "            split_values.add(average)\n",
    "        return list(split_values)\n",
    "\n",
    "    def _find_best_split(self, X, y, n_features):\n",
    "        \"\"\"Find best feature and value for a split. Greedy algorithm.\"\"\"\n",
    "        # Sample random subset of features\n",
    "        subset = self.rng.choice(list(range(0, X.shape[1])), n_features, replace=False)\n",
    "        max_gain, max_col, max_val = None, None, None\n",
    "        for column in subset:\n",
    "            split_values = self._find_splits(X[:, column])\n",
    "            for value in split_values:\n",
    "                splits = split(X[:, column], y, value)\n",
    "                gain = self._compute_gain(y, splits)\n",
    "                # print(\"splits\", splits)\n",
    "                # print(\"gain\", gain)\n",
    "                if (max_gain is None) or (gain > max_gain):\n",
    "                    max_col, max_val, max_gain = column, value, gain\n",
    "        return max_col, max_val, max_gain\n",
    "\n",
    "    def _compute_outcome(self, y):\n",
    "        \"\"\"Save outcome probabilities for the leaf.\"\"\"\n",
    "        self.outcome_probs = np.around(np.sum(y) / y.shape[0])\n",
    "\n",
    "    def fit(self, X, y, feature_frac=1.0, max_depth=None):\n",
    "        \"\"\"Fit model.\n",
    "\n",
    "        Args:\n",
    "            X (numpy-array):      The training input samples. 2-dimensional numpy array.\n",
    "            y (numpy-array):      The target values. 1-dimensional numpy array.\n",
    "            feature_frac (float): The fraction of features to use when fit is performed. Must be\n",
    "                                  between 0.0 and 1.0 (default: 1.0, i.e. all features).\n",
    "            max_depth (int):      The maximum depth of the tree. If None, then nodes are expanded\n",
    "                                  until all leaves are pure.\n",
    "        \"\"\"\n",
    "        # 3 points\n",
    "        # Make this tree a leaf and return if max_depth doesn't allow it to grow further\n",
    "        if max_depth is not None and max_depth == 0:\n",
    "            self._compute_outcome(y)\n",
    "            return\n",
    "        if not 0.0 <= feature_frac <= 1.0:\n",
    "            raise ValueError(\"feature_frac must lie between 0.0 and 1.0\")\n",
    "        # Compute the number of features to use. Should be integer number\n",
    "        n_features = int(round(X.shape[1] * feature_frac))\n",
    "        # Find the next split\n",
    "        column, value, gain = self._find_best_split(X, y, n_features)\n",
    "        # Make this tree a leaf and return if the split doesn't bring any gain\n",
    "        if gain == None or gain == 0:\n",
    "            self._compute_outcome(y)\n",
    "            _ = self.outcome_probs\n",
    "            return\n",
    "        # Save the necessary information about the next split\n",
    "        self.threshold = value  # value of the next split\n",
    "        self.column_index = column  # column to use for the next split\n",
    "        # Reduce the max_depth parameter for the next tree\n",
    "        if max_depth is not None:\n",
    "            max_depth -= 1\n",
    "        # Split dataset\n",
    "        left_X, right_X, left_target, right_target = split_dataset(X, y, column, value)\n",
    "        # Grow left and right child. Pass over the parent's random generator\n",
    "        # for reproducible results\n",
    "        self.left_child = Tree(criterion=self.criterion, random_gen=self.rng)\n",
    "        self.left_child.fit(left_X, left_target, feature_frac, max_depth)\n",
    "        self.right_child = Tree(criterion=self.criterion, random_gen=self.rng)\n",
    "        self.right_child.fit(right_X, right_target, feature_frac, max_depth)\n",
    "\n",
    "    def predict_row(self, row):\n",
    "        \"\"\"Predict single row.\"\"\"\n",
    "        # 0.5 points\n",
    "        if not self.is_terminal:\n",
    "            # Use the stored information about the split to define\n",
    "            # if the right or the left child to use\n",
    "            if row[self.column_index] < self.threshold:\n",
    "                return self.left_child.predict_row(row)\n",
    "            else:\n",
    "                return self.right_child.predict_row(row)\n",
    "        return self.outcome_probs\n",
    "\n",
    "    def predict(self, X):\n",
    "        \"\"\"Make predictions.\n",
    "\n",
    "        Args:\n",
    "            X (numpy-array): The test input samples. 2-dimensional numpy array.\n",
    "        Returns:\n",
    "            1-dimensional numpy-array with predictions\n",
    "        \"\"\"\n",
    "        # 1 point\n",
    "        # Create a numpy array of zeros of necessary length to save predictions\n",
    "        result = np.zeros(X.shape[0])\n",
    "        # Go through all rows of the dataset\n",
    "        for i in range(X.shape[0]):\n",
    "            # Save the prediction for the current row\n",
    "            result[i] = self.predict_row(X[i, :])\n",
    "        return result"
   ]
  },
  {
   "cell_type": "code",
   "execution_count": 17,
   "metadata": {
    "ExecuteTime": {
     "end_time": "2022-01-17T20:27:52.381392Z",
     "start_time": "2022-01-17T20:27:51.244Z"
    }
   },
   "outputs": [
    {
     "name": "stdout",
     "output_type": "stream",
     "text": [
      "\u001b[92m All good!\n"
     ]
    }
   ],
   "source": [
    "tests.test_tree(Tree)"
   ]
  },
  {
   "cell_type": "markdown",
   "metadata": {},
   "source": [
    "**Task 4 - 1 point** Fit two models with \"max_depth=3\" and \"max_depth=None\" hyperparameters. **Explain** the results."
   ]
  },
  {
   "cell_type": "code",
   "execution_count": 18,
   "metadata": {
    "ExecuteTime": {
     "end_time": "2022-01-17T20:27:52.382390Z",
     "start_time": "2022-01-17T20:27:51.246Z"
    }
   },
   "outputs": [
    {
     "name": "stdout",
     "output_type": "stream",
     "text": [
      "train acc (max_depth=3) 0.8735\n",
      " test acc (max_depth=3) 0.7381\n",
      "train acc (max_depth=None) 1.0\n",
      " test acc (max_depth=None) 0.7143\n"
     ]
    }
   ],
   "source": [
    "# Your code here\n",
    "def print_acc(tree, max_depth=None):\n",
    "    tree.fit(X_train.values, y_train.values, max_depth=max_depth)\n",
    "    y_pred = tree.predict(X_train.values)\n",
    "    print(f\"train acc (max_depth={max_depth})\", accuracy_score(y_train, y_pred).round(4))\n",
    "    y_pred = tree.predict(X_test.values)\n",
    "    print(f\" test acc (max_depth={max_depth})\", accuracy_score(y_test, y_pred).round(4))\n",
    "\n",
    "\n",
    "print_acc(Tree(criterion=\"entropy\"), max_depth=3)\n",
    "print_acc(Tree(criterion=\"entropy\"), max_depth=None)"
   ]
  },
  {
   "cell_type": "code",
   "execution_count": 19,
   "metadata": {
    "ExecuteTime": {
     "end_time": "2022-01-17T20:27:52.383389Z",
     "start_time": "2022-01-17T20:27:51.248Z"
    }
   },
   "outputs": [],
   "source": [
    "# Наверное, имелось в виду, что ограничение на max_depth дает эффект регуляризации. \n",
    "# Меньшее количество сохраняемых деталей ограничивает переобучение. Как бонус еще и вычислений \n",
    "# меньше. Если запустить раз 10-20 (чтобы попасть на разные random_state), то на тесте результат\n",
    "# max_depth=3 обычно одинаковый или лучше. Но иногда можно получить и обратный результат.\n",
    "# 3 > None\n",
    "# train acc (max_depth=3) 0.8735\n",
    "#  test acc (max_depth=3) 0.7381\n",
    "# train acc (max_depth=None) 1.0\n",
    "#  test acc (max_depth=None) 0.7143\n",
    "# None > 3 (редкий случай, 1-2 раза)\n",
    "# train acc (max_depth=3) 0.8735\n",
    "#  test acc (max_depth=3) 0.7381\n",
    "# train acc (max_depth=None) 1.0\n",
    "#  test acc (max_depth=None) 0.7619"
   ]
  },
  {
   "cell_type": "code",
   "execution_count": 20,
   "metadata": {
    "ExecuteTime": {
     "end_time": "2022-01-17T20:27:52.384384Z",
     "start_time": "2022-01-17T20:27:51.249Z"
    }
   },
   "outputs": [],
   "source": [
    "def plot_metrics_on_depths(criterion='gini'):\n",
    "    max_depths, train_scores, test_scores = [], [], []\n",
    "    for max_depth in range(0, 8):\n",
    "        max_depths.append(max_depth)\n",
    "        model = Tree(criterion=criterion)\n",
    "        model.fit(X_train.values, y_train.values, max_depth=max_depth)\n",
    "        train_scores.append(accuracy_score(y_train, model.predict(X_train.values)))\n",
    "        y_pred = model.predict(X_test.values)\n",
    "        test_scores.append(accuracy_score(y_test, y_pred))\n",
    "    res_metrics = pd.DataFrame(data={'train': train_scores, 'test': test_scores}, index=max_depths)\n",
    "    sns.set(rc={'figure.figsize':(16, 6)})\n",
    "    plt.plot(res_metrics['train'], label='train score')\n",
    "    plt.plot(res_metrics['test'], label='test score')\n",
    "    plt.title(\"Accuracy as a function of max_depth\")\n",
    "    plt.xlabel('max_depth')\n",
    "    plt.ylabel('accuracy')\n",
    "    plt.legend()\n",
    "    plt.show();"
   ]
  },
  {
   "cell_type": "code",
   "execution_count": 21,
   "metadata": {
    "ExecuteTime": {
     "end_time": "2022-01-17T20:27:52.384384Z",
     "start_time": "2022-01-17T20:27:51.250Z"
    }
   },
   "outputs": [
    {
     "data": {
      "image/png": "[encoded data removed]",
      "text/plain": [
       "<Figure size 1152x432 with 1 Axes>"
      ]
     },
     "metadata": {},
     "output_type": "display_data"
    }
   ],
   "source": [
    "plot_metrics_on_depths('gini')"
   ]
  },
  {
   "cell_type": "code",
   "execution_count": 22,
   "metadata": {
    "ExecuteTime": {
     "end_time": "2022-01-17T20:27:52.385383Z",
     "start_time": "2022-01-17T20:27:51.252Z"
    }
   },
   "outputs": [
    {
     "data": {
      "image/png": "[encoded data removed]",
      "text/plain": [
       "<Figure size 1152x432 with 1 Axes>"
      ]
     },
     "metadata": {},
     "output_type": "display_data"
    }
   ],
   "source": [
    "plot_metrics_on_depths('entropy')"
   ]
  },
  {
   "cell_type": "code",
   "execution_count": 23,
   "metadata": {},
   "outputs": [],
   "source": [
    "# entropy выглядит лучше на этом датасете."
   ]
  },
  {
   "cell_type": "markdown",
   "metadata": {},
   "source": [
    "## Random forest"
   ]
  },
  {
   "cell_type": "markdown",
   "metadata": {},
   "source": [
    "**Task 5 - 1.5 Points** In the RandomForestClassifier class below you need to complete the *fit* and *predict()* functions"
   ]
  },
  {
   "cell_type": "code",
   "execution_count": 24,
   "metadata": {
    "ExecuteTime": {
     "end_time": "2022-01-17T22:16:11.657659Z",
     "start_time": "2022-01-17T22:16:11.627802Z"
    }
   },
   "outputs": [],
   "source": [
    "class RandomForestClassifier(object):\n",
    "    \"\"\"\n",
    "    A random forest classifier.\n",
    "    A random forest is a meta estimator that fits a number of decision tree\n",
    "    classifiers on various sub-samples of the dataset and uses averaging to\n",
    "    improve the predictive accuracy and control overfitting.\n",
    "\n",
    "    Args:\n",
    "        n_estimators : int, default=10\n",
    "            The number of trees in the forest.\n",
    "\n",
    "        max_depth : int, default=None\n",
    "            The maximum depth of the tree. If None, then nodes are expanded until\n",
    "            all leaves are pure.\n",
    "\n",
    "        feature_frac : float, default=None\n",
    "            The fraction of features to use when looking for the best split. Must be\n",
    "            between 0.0 and 1.0. If None, then `feature_frac = 1 / sqrt(n_features)`.\n",
    "\n",
    "        criterion : {\"gini\", \"entropy\"}, default=\"gini\"\n",
    "            The function to measure the quality of a split. Supported criteria are\n",
    "            \"gini\" for the Gini impurity and \"entropy\" for the information gain.\n",
    "\n",
    "        random_gen: numpy Random Generator object, default=None\n",
    "            Generator should be passed over for reproducible results. If None,\n",
    "            a new np.random.default_rng() will be created.\n",
    "    \"\"\"\n",
    "\n",
    "    def __init__(\n",
    "        self,\n",
    "        n_estimators=10,\n",
    "        max_depth=None,\n",
    "        feature_frac=None,\n",
    "        criterion=\"entropy\",\n",
    "        bootstrap=True,\n",
    "        random_gen=None,\n",
    "    ):\n",
    "        self.n_estimators = n_estimators\n",
    "        self.max_depth = max_depth\n",
    "        self.bootstrap = bootstrap\n",
    "        self.feature_frac = feature_frac\n",
    "        if criterion not in [\"gini\", \"entropy\"]:\n",
    "            raise ValueError(f\"Unknown criteria for splits {criterion}\")\n",
    "        self.criterion = criterion\n",
    "        self.rng = random_gen if random_gen is not None else np.random.default_rng()\n",
    "        self.trees = [Tree(criterion=self.criterion, random_gen=self.rng) for _ in range(n_estimators)]\n",
    "\n",
    "    def _init_data(self, X, y):\n",
    "        \"\"\"Ensure data are in the expected format.\n",
    "        Ensures X and y are stored as numpy ndarrays by converting from an\n",
    "        array-like object if necessary.\n",
    "        Parameters\n",
    "        Args:\n",
    "            X : array-like\n",
    "                Feature dataset.\n",
    "            y : array-like, default=None\n",
    "                Target values. By default is required, but if y_required = false\n",
    "                then may be omitted.\n",
    "        \"\"\"\n",
    "        self.size = len(X)\n",
    "        if not isinstance(X, np.ndarray):\n",
    "            self.X = np.array(X)\n",
    "        else:\n",
    "            self.X = X\n",
    "        if not isinstance(y, np.ndarray):\n",
    "            self.y = np.array(y)\n",
    "        else:\n",
    "            self.y = y\n",
    "\n",
    "    def bootstrap_data(self, size):\n",
    "        return self.rng.integers(size, size=size)\n",
    "\n",
    "    def fit(self, X, y):\n",
    "        \"\"\"Fit model.\n",
    "\n",
    "        Args:\n",
    "            X (numpy-array): The training input samples. 2-dimensional numpy array.\n",
    "            y (numpy-array): The target values. 1-dimensional numpy array.\n",
    "        \"\"\"\n",
    "        # 0.5 points\n",
    "        if self.feature_frac is None:\n",
    "            self.feature_frac = 1 / np.sqrt(X.shape[1])\n",
    "        elif not 0.0 <= self.feature_frac <= 1.0:\n",
    "            raise ValueError(\"feature_frac must lie between 0.0 and 1.0\")\n",
    "        self._init_data(X, y)\n",
    "        # Iterate over all trees in the forest\n",
    "        for tree in self.trees:\n",
    "            if self.bootstrap:\n",
    "                idxs = self.bootstrap_data(self.size)\n",
    "                X = self.X[idxs]\n",
    "                y = self.y[idxs]\n",
    "            else:\n",
    "                X = self.X\n",
    "                y = self.y\n",
    "            # Fit the tree\n",
    "            tree.fit(X, y, self.feature_frac, self.max_depth)\n",
    "\n",
    "    def predict(self, X):\n",
    "        \"\"\"Make predictions.\n",
    "\n",
    "        Args:\n",
    "            X (numpy-array): The test data input samples. 2-dimensional numpy array.\n",
    "        \"\"\"\n",
    "        # 1 point\n",
    "        if not isinstance(X, np.ndarray):\n",
    "            X = np.array(X)\n",
    "        if self.X is not None:\n",
    "            # Create a numpy array of zeros of necessary length\n",
    "            n_rows, n_cols = X.shape[0], X.shape[1]\n",
    "            predictions = np.zeros(n_rows)\n",
    "            # Go through all rows of the dataset\n",
    "            for i in range(n_rows):\n",
    "                # Initialize a counter for voting\n",
    "                row_pred = np.zeros(n_cols)\n",
    "                # Sum up predictions from all the voters\n",
    "                for tree in self.trees:\n",
    "                    row_pred += tree.predict_row(X[i, :])\n",
    "                # Compute the mean of the votes\n",
    "                row_pred = row_pred.mean() / self.n_estimators\n",
    "                # Save the rounded value as the prediction for the current row\n",
    "                predictions[i] = np.where(row_pred > 0.5, 1, 0)\n",
    "            return predictions\n",
    "        else:\n",
    "            raise ValueError(\"You should fit a model before `predict`\")\n"
   ]
  },
  {
   "cell_type": "code",
   "execution_count": 25,
   "metadata": {
    "ExecuteTime": {
     "end_time": "2022-01-17T20:27:52.387491Z",
     "start_time": "2022-01-17T20:27:51.255Z"
    }
   },
   "outputs": [
    {
     "name": "stdout",
     "output_type": "stream",
     "text": [
      "\u001b[92m All good!\n"
     ]
    }
   ],
   "source": [
    "tests.test_random_forest(RandomForestClassifier)"
   ]
  },
  {
   "cell_type": "markdown",
   "metadata": {},
   "source": [
    "**Task 6 - 1 Point** Fit two models with \"n_estimators=10\" and \"n_estimators=100\" hyperparameters. **Explain** the results."
   ]
  },
  {
   "cell_type": "code",
   "execution_count": 26,
   "metadata": {
    "ExecuteTime": {
     "end_time": "2022-01-17T20:27:52.388380Z",
     "start_time": "2022-01-17T20:27:51.257Z"
    }
   },
   "outputs": [
    {
     "name": "stdout",
     "output_type": "stream",
     "text": [
      "train acc (n_estimators=10) 0.988\n",
      " test acc (n_estimators=10) 0.7619\n",
      "train acc (n_estimators=100) 1.0\n",
      " test acc (n_estimators=100) 0.8333\n"
     ]
    }
   ],
   "source": [
    "# Your code here\n",
    "def print_acc(rfc):\n",
    "    n_estimators = rfc.n_estimators\n",
    "    rfc.fit(X_train.values, y_train.values)\n",
    "    y_pred = rfc.predict(X_train.values)\n",
    "    print(f\"train acc (n_estimators={n_estimators})\", accuracy_score(y_train, y_pred).round(4))\n",
    "    y_pred = rfc.predict(X_test.values)\n",
    "    print(f\" test acc (n_estimators={n_estimators})\", accuracy_score(y_test, y_pred).round(4))\n",
    "\n",
    "\n",
    "print_acc(RandomForestClassifier(n_estimators=10))\n",
    "print_acc(RandomForestClassifier(n_estimators=100))"
   ]
  },
  {
   "cell_type": "code",
   "execution_count": 27,
   "metadata": {
    "ExecuteTime": {
     "end_time": "2022-01-17T20:27:52.389380Z",
     "start_time": "2022-01-17T20:27:51.259Z"
    }
   },
   "outputs": [],
   "source": [
    "# n_estimators выглядит аналогично max_depth как способ ограничить переобучение, только наоборот\n",
    "# больше разных деревьев - больше шума, усреднение шума, меньше деталей. Т.е. большее значение \n",
    "# n_estimators предпочтительнее до какого-то момента, чтобы ограничить количество вычислений. \n",
    "# Значение 100 тут выглядит в среднем лучше, но иногда бывает, что и 10 лучше:\n",
    "# \n",
    "# train acc (n_estimators=10) 0.994\n",
    "#  test acc (n_estimators=10) 0.9286\n",
    "# train acc (n_estimators=100) 1.0\n",
    "#  test acc (n_estimators=100) 0.8571\n",
    "# \n",
    "# бывает одинаковый результат:\n",
    "# train acc (n_estimators=10) 1.0\n",
    "#  test acc (n_estimators=10) 0.8333\n",
    "# train acc (n_estimators=100) 1.0\n",
    "#  test acc (n_estimators=100) 0.8333"
   ]
  },
  {
   "cell_type": "markdown",
   "metadata": {},
   "source": [
    "Now it's your turn to explore the various parameters of RandomForestClassifier and their influence on model quality."
   ]
  },
  {
   "cell_type": "markdown",
   "metadata": {},
   "source": [
    "# Homework part 2. Random Forest in action"
   ]
  },
  {
   "cell_type": "markdown",
   "metadata": {},
   "source": [
    "_Note_: Consider **accuracy** as main metric of model performance on this dataset."
   ]
  },
  {
   "cell_type": "markdown",
   "metadata": {},
   "source": [
    "_Note_: For tasks 1 to 5 please use your custom RandomForestClassifier if it is completed."
   ]
  },
  {
   "cell_type": "markdown",
   "metadata": {},
   "source": [
    "**Task 1 (0.5 points)** Split the dataset into train, test and validation parts (0.6 / 0.2 / 0.2). First two will be used for model hyperparameter tuning whereas the best model quality should be evaluated on validation part."
   ]
  },
  {
   "cell_type": "code",
   "execution_count": 28,
   "metadata": {
    "ExecuteTime": {
     "end_time": "2022-01-17T20:27:52.390375Z",
     "start_time": "2022-01-17T20:27:51.261Z"
    }
   },
   "outputs": [
    {
     "data": {
      "text/plain": [
       "((124, 60), (124,))"
      ]
     },
     "execution_count": 28,
     "metadata": {},
     "output_type": "execute_result"
    },
    {
     "data": {
      "text/plain": [
       "((42, 60), (42,))"
      ]
     },
     "execution_count": 28,
     "metadata": {},
     "output_type": "execute_result"
    },
    {
     "data": {
      "text/plain": [
       "((42, 60), (42,))"
      ]
     },
     "execution_count": 28,
     "metadata": {},
     "output_type": "execute_result"
    }
   ],
   "source": [
    "# Your code here\n",
    "# В чате сказали, что это для удаленного второго задания\n",
    "# df.shape (208, 61) -> train, test and validation parts (0.6 / 0.2 / 0.2)\n",
    "split_in_indices = [int(0.6 * len(df)), int(0.8 * len(df))]  # [124, 166]\n",
    "train, test, val = np.split(df.sample(frac=1, random_state=42), split_in_indices)\n",
    "X_train, y_train = train.drop(columns=\"target\").values, train[\"target\"].values\n",
    "X_test, y_test = test.drop(columns=\"target\").values, test[\"target\"].values\n",
    "X_val, y_val = val.drop(columns=\"target\").values, val[\"target\"].values\n",
    "X_train.shape, y_train.shape  # ((124, 60), (124,))\n",
    "X_test.shape, y_test.shape  # ((42, 60), (42,))\n",
    "X_val.shape, y_val.shape  # ((42, 60), (42,))"
   ]
  },
  {
   "cell_type": "markdown",
   "metadata": {},
   "source": [
    "### Grid Search and Random Search"
   ]
  },
  {
   "cell_type": "markdown",
   "metadata": {},
   "source": [
    "If you have enough computational power for model training in a reasonable amount of time more sophisticated approach of hyperparameter tuning would be either Grid Search or Random Search.<br>\n",
    "\n",
    "In a nutshell Grid Search allows you to pass through all different combinations of given model parameters and their values and choose the best combination. Whereas Random Search would randomly choose values for given model parameters and evaluate them on test data untill it reaches the specified number of iterations.<br>\n",
    "\n",
    "More information here [Gentle introduction to Grid and Random search](https://medium.com/@senapati.dipak97/grid-search-vs-random-search-d34c92946318) and here [Detailed Explanation with code examples](https://machinelearningmastery.com/hyperparameter-optimization-with-random-search-and-grid-search/)."
   ]
  },
  {
   "attachments": {
    "grid_random_search.png": {
     "image/png": "[encoded data removed]"
    }
   },
   "cell_type": "markdown",
   "metadata": {},
   "source": [
    "![grid_random_search.png](attachment:grid_random_search.png)"
   ]
  },
  {
   "cell_type": "markdown",
   "metadata": {
    "ExecuteTime": {
     "end_time": "2022-01-17T10:10:45.984304Z",
     "start_time": "2022-01-17T10:10:45.969369Z"
    }
   },
   "source": [
    "**Task 3 (1 point)**. Compare your previous results with [GridSearch](https://scikit-learn.org/stable/modules/generated/sklearn.model_selection.GridSearchCV.html) hyperparameter tuning. You may tune best hyperparameters for forest with several trees and then increase it while measure the quality on validation dataset."
   ]
  },
  {
   "cell_type": "code",
   "execution_count": 139,
   "metadata": {
    "ExecuteTime": {
     "end_time": "2022-01-17T20:27:52.391365Z",
     "start_time": "2022-01-17T20:27:51.265Z"
    }
   },
   "outputs": [
    {
     "name": "stdout",
     "output_type": "stream",
     "text": [
      "Фиксированный n_estimators: [5]\n",
      "best params: {'bootstrap': False, 'criterion': 'gini', 'max_depth': 10, 'min_samples_split': 6, 'n_estimators': 5}\n",
      "best acc: 0.838\n",
      "test acc 0.704\n",
      "\n",
      "Поиск по n_estimators: [5, 6, 7, 10, 15, 30, 50, 75, 100, 200]\n",
      "best params: {'bootstrap': False, 'criterion': 'gini', 'max_depth': 10, 'min_samples_split': 6, 'n_estimators': 50}\n",
      "best acc: 0.85\n",
      "test acc 0.744\n"
     ]
    }
   ],
   "source": [
    "# Your code here\n",
    "from sklearn.model_selection import RepeatedStratifiedKFold, GridSearchCV, RandomizedSearchCV\n",
    "from sklearn.ensemble import RandomForestClassifier\n",
    "\n",
    "X_train, X_test, y_train, y_test = train_test_split(\n",
    "    df.drop(columns=\"target\"), df[\"target\"], test_size=0.6, random_state=RANDOM_STATE\n",
    ")\n",
    "\n",
    "def fit_SearchCV(scvClass, params):\n",
    "    cv = RepeatedStratifiedKFold(n_splits=3, n_repeats=2, random_state=RANDOM_STATE)\n",
    "    scv = scvClass(RandomForestClassifier(), params, scoring=\"accuracy\", cv=cv, n_jobs=-1)\n",
    "    scv.fit(X_train, y_train)\n",
    "    # print(\"mean_test_score:\", np.mean(scv.cv_results_[\"mean_test_score\"]))\n",
    "    # print(f\"scv.best_estimator:\", scv.best_estimator_)\n",
    "    best_params = scv.cv_results_[\"params\"][scv.best_index_]\n",
    "    print(f\"best params:\", best_params)\n",
    "    print(f\"best acc: {scv.best_score_.round(3)}\")\n",
    "    print(\"test acc\", accuracy_score(y_test, scv.predict(X_test)))\n",
    "    return best_params\n",
    "\n",
    "gs_params = {\n",
    "    \"max_depth\": [2, 3, 4, 5, 6, 7, 10, 15],\n",
    "    \"min_samples_split\": [2, 3, 4, 5, 6, 7, 8],\n",
    "    \"n_estimators\": [5],\n",
    "    \"bootstrap\": [True, False],\n",
    "    \"criterion\": [\"gini\", \"entropy\"],\n",
    "}\n",
    "# Начинаем поиск с небольшим количеством деревьев, фиксируем лучшее, \n",
    "# потом увеличиваем только количество деревьев\n",
    "print('Фиксированный n_estimators:', gs_params[\"n_estimators\"])\n",
    "gs_best_params = fit_SearchCV(GridSearchCV, gs_params)\n",
    "for key, val in gs_best_params.items():\n",
    "    gs_best_params[key] = [val]\n",
    "gs_best_params[\"n_estimators\"] = [5, 6, 7, 10, 15, 30, 50, 75, 100, 200]\n",
    "print('\\nПоиск по n_estimators:', gs_best_params[\"n_estimators\"])\n",
    "_ = fit_SearchCV(GridSearchCV, gs_best_params)"
   ]
  },
  {
   "cell_type": "markdown",
   "metadata": {},
   "source": [
    "**Task 4 (1 point)**. And finally tune forest hyperparameters with [RandomSearch](https://scikit-learn.org/stable/modules/generated/sklearn.model_selection.RandomizedSearchCV.html). Compare results to previous attempts."
   ]
  },
  {
   "cell_type": "code",
   "execution_count": 162,
   "metadata": {
    "ExecuteTime": {
     "end_time": "2022-01-17T20:27:52.392364Z",
     "start_time": "2022-01-17T20:27:51.266Z"
    }
   },
   "outputs": [
    {
     "name": "stdout",
     "output_type": "stream",
     "text": [
      "Фиксированный n_estimators: [5]\n",
      "best params: {'n_estimators': 5, 'min_samples_split': 7, 'max_depth': 7, 'criterion': 'gini', 'bootstrap': False}\n",
      "best acc: 0.802\n",
      "test acc 0.728\n",
      "\n",
      "Поиск по n_estimators: [5, 6, 7, 10, 15, 30, 50, 75, 100, 200]\n",
      "best params: {'n_estimators': 100, 'min_samples_split': 7, 'max_depth': 7, 'criterion': 'gini', 'bootstrap': False}\n",
      "best acc: 0.849\n",
      "test acc 0.776\n"
     ]
    }
   ],
   "source": [
    "# Your code here\n",
    "rs_params = {\n",
    "    \"max_depth\": [2, 3, 4, 5, 6, 7, 10, 15],\n",
    "    \"min_samples_split\": [2, 3, 4, 5, 6, 7, 8],\n",
    "    \"n_estimators\": [5],\n",
    "    \"bootstrap\": [True, False],\n",
    "    \"criterion\": [\"gini\", \"entropy\"],\n",
    "}\n",
    "print('Фиксированный n_estimators:', rs_params[\"n_estimators\"])\n",
    "rs_best_params = fit_SearchCV(RandomizedSearchCV, rs_params)\n",
    "for key, val in rs_best_params.items():\n",
    "    rs_best_params[key] = [val]\n",
    "rs_best_params[\"n_estimators\"] = [5, 6, 7, 10, 15, 30, 50, 75, 100, 200]\n",
    "print('\\nПоиск по n_estimators:', rs_best_params[\"n_estimators\"])\n",
    "_ = fit_SearchCV(RandomizedSearchCV, rs_best_params)"
   ]
  },
  {
   "cell_type": "markdown",
   "metadata": {},
   "source": [
    "**Task 5 (0.5 points)**. Tell us about your experience in hyperparameter tuning with the approaches above. What do you think would be the best option for this task and why?\n",
    "\n",
    "GridSearchCV test acc обычно около около 0.75\n",
    "\n",
    "\n",
    "RandomizedSearchCV test acc обычно около 0.75, но иногда бывает и 0.65 и 0.816\n",
    "\n",
    "Рандомный вариант работает заметно быстрее, дает схожую точность и выглядит предпочтительней.  "
   ]
  },
  {
   "cell_type": "markdown",
   "metadata": {},
   "source": [
    "Your cool ideas here... <br/>\n",
    "Интересно, что лучшие параметры довольно сильно могут отличаться от запуска к запуску. Наверное потому, что датасет слишком маленький. GridSearch возможно более стабильный, но на таком маленьком датасете я этого не смог ясно увидеть."
   ]
  },
  {
   "cell_type": "markdown",
   "metadata": {},
   "source": [
    "### Desicion tree explained"
   ]
  },
  {
   "cell_type": "markdown",
   "metadata": {},
   "source": [
    "Remember the [Titanic](https://www.kaggle.com/c/titanic) competition from last week? Wouldn't be a good idea to visualize one of possible desicion-making processes of _survived_ / _dead_ labeling?"
   ]
  },
  {
   "cell_type": "markdown",
   "metadata": {},
   "source": [
    "**Task 6 (1 point)**. Load titanic dataset, split it into train/test parts, apply simple hyperparameter tuning of [DesicionTreeClassifier](https://scikit-learn.org/stable/modules/generated/sklearn.tree.DecisionTreeClassifier.html) (use one of the approaches above) in order to have **test accuracy more than 0.65**. <br>\n",
    "\n",
    "Draw the best tree decision making process. You may use [sklearn.tree.prot_tree](https://scikit-learn.org/stable/modules/generated/sklearn.tree.plot_tree.html).<br>"
   ]
  },
  {
   "cell_type": "code",
   "execution_count": 175,
   "metadata": {
    "ExecuteTime": {
     "end_time": "2022-01-17T20:27:52.393362Z",
     "start_time": "2022-01-17T20:27:51.269Z"
    }
   },
   "outputs": [
    {
     "data": {
      "text/plain": [
       "((60000, 62), (40000, 62), (60000,), (40000,))"
      ]
     },
     "execution_count": 175,
     "metadata": {},
     "output_type": "execute_result"
    },
    {
     "name": "stdout",
     "output_type": "stream",
     "text": [
      "best params: {'splitter': 'random', 'min_samples_split': 15, 'min_impurity_decrease': 0.0, 'max_features': 50, 'max_depth': 7, 'criterion': 'entropy'}\n",
      "best acc: 0.768\n",
      "test acc 0.773775\n"
     ]
    }
   ],
   "source": [
    "from sklearn.tree import DecisionTreeClassifier\n",
    "import os\n",
    "PATH = \"../006/data/\"\n",
    "train = pd.read_csv(os.path.join(PATH, \"titanic\", \"train.csv\"))\n",
    "test = pd.read_csv(os.path.join(PATH, \"titanic\", \"test.csv\"))\n",
    "submission = pd.read_csv(os.path.join(PATH, \"titanic\", \"sample_submission.csv\"))\n",
    "train.set_index(\"PassengerId\", verify_integrity=True, inplace=True)\n",
    "test.set_index(\"PassengerId\", verify_integrity=True, inplace=True)\n",
    "submission.set_index(\"PassengerId\", verify_integrity=True, inplace=True)\n",
    "df = pd.concat([train, test], verify_integrity=True)\n",
    "df.drop(\"Name\", axis=1, inplace=True)\n",
    "df = pd.get_dummies(df, columns=[\"Pclass\"])\n",
    "df = pd.get_dummies(df, columns=[\"Sex\"])\n",
    "df = pd.get_dummies(df, columns=[\"SibSp\"])\n",
    "df = pd.get_dummies(df, columns=[\"Parch\"])\n",
    "df[\"Ticket\"] = df.Ticket.str[0]\n",
    "df[\"Ticket\"] = df[\"Ticket\"].fillna(\"N\")\n",
    "df[\"Cabin\"] = df.Ticket.str[0]\n",
    "df[\"Cabin\"] = df[\"Cabin\"].fillna(\"N\")\n",
    "df = pd.get_dummies(df, columns=[\"Cabin\"])\n",
    "df = pd.get_dummies(df, columns=[\"Ticket\"])\n",
    "df[\"Embarked\"] = df.Embarked.fillna(\"NA\")\n",
    "df = pd.get_dummies(df, columns=[\"Embarked\"])\n",
    "df[\"Age_na\"] = df.Age.isna()\n",
    "df[\"Age\"] = df.Age.fillna(df.Age.mean())\n",
    "df[\"Fare_na\"] = df.Fare.isna()\n",
    "df[\"Fare\"] = df.Fare.fillna(df.Fare.median())\n",
    "assert df.drop(\"Survived\", axis=1).isna().sum().sum() == 0\n",
    "y = df[:len(train)].Survived\n",
    "X = df[:len(train)].drop(\"Survived\", axis=1)\n",
    "X_train, X_test, y_train, y_test = train_test_split(\n",
    "    X, y, test_size=0.4, shuffle=True, random_state=RANDOM_STATE\n",
    ")\n",
    "X_train.shape, X_test.shape, y_train.shape, y_test.shape\n",
    "\n",
    "def fit_SearchCV(scvClass, params):\n",
    "    cv = RepeatedStratifiedKFold(n_splits=3, n_repeats=2, random_state=RANDOM_STATE)\n",
    "    scv = scvClass(DecisionTreeClassifier(), params, scoring=\"accuracy\", cv=cv, n_jobs=-1)\n",
    "    scv.fit(X_train, y_train)\n",
    "    print(f\"best params:\", scv.cv_results_[\"params\"][scv.best_index_])\n",
    "    print(f\"best acc: {scv.best_score_.round(3)}\")\n",
    "    print(\"test acc\", accuracy_score(y_test, scv.predict(X_test)))\n",
    "    return scv\n",
    "\n",
    "rs_params = {\n",
    "    \"max_depth\": [2, 3, 5, 7, 10, 20, 50],\n",
    "    \"min_impurity_decrease\": [0.0, 0.001, 0.002, 0.005, 0.01],\n",
    "    \"max_features\": [20, 40, 50, None],\n",
    "    \"min_samples_split\": [2, 3, 4, 8, 15],\n",
    "    'splitter': ['best', 'random'],\n",
    "    \"criterion\": [\"gini\", \"entropy\"],\n",
    "}\n",
    "clf = fit_SearchCV(RandomizedSearchCV, rs_params)"
   ]
  },
  {
   "cell_type": "code",
   "execution_count": 176,
   "metadata": {},
   "outputs": [],
   "source": [
    "\n",
    "submission = pd.read_csv(os.path.join(PATH, \"titanic\", \"sample_submission.csv\"))\n",
    "submission.set_index(\"PassengerId\", verify_integrity=True, inplace=True)\n",
    "test_df = df[len(train):].drop(\"Survived\", axis=1)\n",
    "_ = clf.fit(X, y)\n",
    "submission[\"Survived\"] = clf.predict(test_df)\n",
    "submission[\"Survived\"] = submission[\"Survived\"].astype(int)\n",
    "submission.to_csv(\"sub.csv\")\n",
    "# Public Score 0.76087"
   ]
  },
  {
   "cell_type": "code",
   "execution_count": 263,
   "metadata": {},
   "outputs": [
    {
     "data": {
      "image/png": "[encoded data removed]",
      "text/plain": [
       "<Figure size 1584x864 with 1 Axes>"
      ]
     },
     "metadata": {},
     "output_type": "display_data"
    }
   ],
   "source": [
    "from sklearn import tree\n",
    "\n",
    "plt.style.use([\"dark_background\"])\n",
    "plt.rcParams[\"figure.figsize\"] = [22.0, 12.0]\n",
    "_ = tree.plot_tree(\n",
    "    clf.best_estimator_,\n",
    "    feature_names=X.columns,\n",
    "    class_names=clf.best_estimator_.classes_.astype(int).astype(str),\n",
    "    rounded=True,\n",
    "    fontsize=11,\n",
    "    precision=2,\n",
    "    proportion=True,\n",
    ")"
   ]
  },
  {
   "cell_type": "markdown",
   "metadata": {},
   "source": [
    "Is it easy to interpret its results? Are you able to explain to a random person why would they survive / die on the titanic?"
   ]
  },
  {
   "cell_type": "code",
   "execution_count": 250,
   "metadata": {},
   "outputs": [
    {
     "data": {
      "text/plain": [
       "(100000, 62)"
      ]
     },
     "execution_count": 250,
     "metadata": {},
     "output_type": "execute_result"
    },
    {
     "data": {
      "text/plain": [
       "((43886, 11), (56114, 11))"
      ]
     },
     "execution_count": 250,
     "metadata": {},
     "output_type": "execute_result"
    },
    {
     "data": {
      "text/plain": [
       "((43886, 62), (56114, 62))"
      ]
     },
     "execution_count": 250,
     "metadata": {},
     "output_type": "execute_result"
    }
   ],
   "source": [
    "# Абсолютно ужасный непонятный график, но можно попробовать его понять, если напрячься. Для этого попробую \n",
    "# делать разбиения через код, двигаясь по самой левой крайней ветке, чтобы посмотреть что там в конце \n",
    "# получится. Пока что единственный легко понимаемый параметр на графике - процент samples. \n",
    "# Вот по нему и буду проверять разбиения.\n",
    "# root\n",
    "root_cond = train.Sex == 'female'\n",
    "X.shape\n",
    "train[root_cond].shape, train[~root_cond].shape\n",
    "X[X.Sex_male <= 0.98].shape, X[X.Sex_male > 0.98].shape\n",
    "# Получили разбиение корня на samples 43.9% и 56.1%"
   ]
  },
  {
   "cell_type": "code",
   "execution_count": 242,
   "metadata": {},
   "outputs": [
    {
     "data": {
      "text/plain": [
       "((28100, 11), (15786, 11))"
      ]
     },
     "execution_count": 242,
     "metadata": {},
     "output_type": "execute_result"
    }
   ],
   "source": [
    "# root->left\n",
    "root_left_cond = train.Embarked == 'C'\n",
    "train[root_cond & ~root_left_cond].shape, train[root_cond & root_left_cond].shape\n",
    "# Получили разбиение на 28.1% и 15.8%"
   ]
  },
  {
   "cell_type": "code",
   "execution_count": 247,
   "metadata": {},
   "outputs": [
    {
     "data": {
      "text/plain": [
       "(18315, 11)"
      ]
     },
     "execution_count": 247,
     "metadata": {},
     "output_type": "execute_result"
    },
    {
     "data": {
      "text/plain": [
       "(9785, 11)"
      ]
     },
     "execution_count": 247,
     "metadata": {},
     "output_type": "execute_result"
    }
   ],
   "source": [
    "# root->left->left\n",
    "root_left_left_cond = train.Pclass == 3\n",
    "train[root_cond & ~root_left_cond & ~root_left_left_cond].shape\n",
    "train[root_cond & ~root_left_cond & root_left_left_cond].shape"
   ]
  },
  {
   "cell_type": "code",
   "execution_count": 255,
   "metadata": {},
   "outputs": [
    {
     "data": {
      "text/plain": [
       "((5770, 11), (12545, 11))"
      ]
     },
     "execution_count": 255,
     "metadata": {},
     "output_type": "execute_result"
    }
   ],
   "source": [
    "# root->left->left->left\n",
    "root_left_left_left_cond = train.SibSp == 0\n",
    "leaf_l = train[root_cond & ~root_left_cond & ~root_left_left_cond & ~root_left_left_left_cond]\n",
    "leaf_r = train[root_cond & ~root_left_cond & ~root_left_left_cond & root_left_left_left_cond]\n",
    "# самые левые листья 5.8% и 12.5%\n",
    "leaf_l.shape, leaf_r.shape"
   ]
  },
  {
   "cell_type": "code",
   "execution_count": 260,
   "metadata": {},
   "outputs": [
    {
     "data": {
      "text/plain": [
       "(0.63, 0.73)"
      ]
     },
     "execution_count": 260,
     "metadata": {},
     "output_type": "execute_result"
    }
   ],
   "source": [
    "# в обоих листьях выживших больше, чем невыживших и эти листы всем дают класс \"выживший\"\n",
    "# т.е. эти листья по идее вообще не нужны\n",
    "leaf_l.Survived.mean().round(2), leaf_r.Survived.mean().round(2)"
   ]
  },
  {
   "cell_type": "code",
   "execution_count": 266,
   "metadata": {},
   "outputs": [
    {
     "data": {
      "text/plain": [
       "DecisionTreeClassifier(criterion='entropy', max_depth=10, max_features=50,\n",
       "                       min_impurity_decrease=0.001, splitter='random')"
      ]
     },
     "execution_count": 266,
     "metadata": {},
     "output_type": "execute_result"
    }
   ],
   "source": [
    "# получается leaf_l вносит 5.8% * 0.37 = 2.1% от общей ошибки дерева на трейне (1 - 0.63 = 0.37 - доля нулей) \n",
    "# получается leaf_r вносит 12.5% * 0.27 = 3.4% от общей ошибки дерева на трейне\n",
    "# \n",
    "# Значит value = [<доля нулей>, <доля единиц>], а class = <какого класса больше>, т.е. max(доля1, доля2).\n",
    "# Мера impurity (entropy) аналог value в виде одного числа.\n",
    "# Не понимаю почему листья не были разделены дальше. Неужели остальные фичи не дали улучшения?\n",
    "# Регуляризация слишком сильно сработала?\n",
    "# И если в целом посмотреть, то целые пучки заканчиваются одинаковым классом.\n",
    "# Но в этом направлении я решил не копать.\n",
    "clf.best_estimator_"
   ]
  },
  {
   "cell_type": "code",
   "execution_count": 280,
   "metadata": {},
   "outputs": [
    {
     "data": {
      "text/plain": [
       "(0.8466996072469276, (15786, 11))"
      ]
     },
     "execution_count": 280,
     "metadata": {},
     "output_type": "execute_result"
    },
    {
     "data": {
      "text/plain": [
       "(0.6355871886120996, (28100, 11))"
      ]
     },
     "execution_count": 280,
     "metadata": {},
     "output_type": "execute_result"
    },
    {
     "data": {
      "text/plain": [
       "(0.1598434051059931, (48022, 11))"
      ]
     },
     "execution_count": 280,
     "metadata": {},
     "output_type": "execute_result"
    },
    {
     "data": {
      "text/plain": [
       "(0.4784972812654474, (8092, 11))"
      ]
     },
     "execution_count": 280,
     "metadata": {},
     "output_type": "execute_result"
    },
    {
     "data": {
      "text/plain": [
       "0.63808"
      ]
     },
     "execution_count": 280,
     "metadata": {},
     "output_type": "execute_result"
    }
   ],
   "source": [
    "# попробую взять пару самых важных фич, которые образуют корень и его два листа\n",
    "cond1 = train.Sex == 'female'\n",
    "cond2 = train.Embarked == 'C'\n",
    "cond3 = train.Embarked == 'S'\n",
    "# dia = diapason\n",
    "dia1, dia2, dia3, dia4 = cond1 & cond2, cond1 & ~cond2, ~cond1 & cond3, ~cond1 & ~cond3\n",
    "train[dia1].Survived.mean(), train[dia1].shape\n",
    "train[dia2].Survived.mean(), train[dia2].shape\n",
    "train[dia3].Survived.mean(), train[dia3].shape\n",
    "train[dia4].Survived.mean(), train[dia4].shape\n",
    "(15786 + 48022)/100000\n",
    "# Получается, пользуясь всего двуми фичами, с вероятностью ~64% можно получить точность ~84%. \n",
    "# И с вероятность ~28% получить точность ~64%. И с вероятность ~8% получить точность ~52%.\n",
    "# 84*0.64 + 64*0.28 + 52*0.08 = ~76% что чуть меньше общей точности дерева"
   ]
  },
  {
   "cell_type": "code",
   "execution_count": 316,
   "metadata": {},
   "outputs": [
    {
     "data": {
      "text/plain": [
       "0    69757\n",
       "1    30243\n",
       "Name: Survived, dtype: int64"
      ]
     },
     "execution_count": 316,
     "metadata": {},
     "output_type": "execute_result"
    }
   ],
   "source": [
    "# посмотрю что там выдаст каггл на этой паре фич\n",
    "tcond1 = test.Sex == 'female'\n",
    "tcond2 = test.Embarked == 'C'\n",
    "tcond3 = test.Embarked == 'S'\n",
    "tdia1, tdia2, tdia3, tdia4 = tcond1 & tcond2, tcond1 & ~tcond2, ~tcond1 & tcond3, ~tcond1 & ~tcond3\n",
    "test['Survived'] = 1\n",
    "test.loc[tdia1, 'Survived'] = 1\n",
    "test.loc[tdia2, 'Survived'] = 1\n",
    "test.loc[tdia3, 'Survived'] = 0\n",
    "test.loc[tdia4, 'Survived'] = 0\n",
    "test.Survived.value_counts()\n",
    "test[['Survived']].to_csv(\"sub_2.csv\")\n",
    "test.drop(\"Survived\", axis=1, inplace=True)\n",
    "# Public Score 0.78505\n",
    "# В результате несколько if-ов оказались не хуже, чем всякие фит_предикты мемная_картинка.jpg\n",
    "#\n",
    "# Если запустить несколько раз и посмотреть на дерево, то видно, что вторая фича не так уж важна \n",
    "# и там может быть другая. Важно, что для второй фичи разбиение получается примерно в одинаковых \n",
    "# пропорциях 0.71 в одну сторону и 0.79 в другую."
   ]
  },
  {
   "cell_type": "code",
   "execution_count": null,
   "metadata": {},
   "outputs": [],
   "source": [
    "# Are you able to explain to a random person why would they survive / die on the titanic?\n",
    "#\n",
    "# Вопрос не совсем корректный, т.к. даже нет однозначного ответа выживет или нет кто-то, только некая \n",
    "# вероятность. Можно лишь объяснить, что у этой условной модели есть некоторые закономерности и есть некая\n",
    "# вероятность выжить в зависимости от конкретных параметров выживальщика. И чем выше параметр в дереве, тем\n",
    "# он скорее всего сильней влияет на результат."
   ]
  }
 ],
 "metadata": {
  "kernelspec": {
   "display_name": "Python 3",
   "language": "python",
   "name": "python3"
  },
  "language_info": {
   "codemirror_mode": {
    "name": "ipython",
    "version": 3
   },
   "file_extension": ".py",
   "mimetype": "text/x-python",
   "name": "python",
   "nbconvert_exporter": "python",
   "pygments_lexer": "ipython3",
   "version": "3.7.9"
  },
  "toc": {
   "base_numbering": 1,
   "nav_menu": {},
   "number_sections": true,
   "sideBar": true,
   "skip_h1_title": false,
   "title_cell": "Table of Contents",
   "title_sidebar": "Contents",
   "toc_cell": false,
   "toc_position": {
    "height": "calc(100% - 180px)",
    "left": "10px",
    "top": "150px",
    "width": "235px"
   },
   "toc_section_display": true,
   "toc_window_display": true
  }
 },
 "nbformat": 4,
 "nbformat_minor": 4
}
